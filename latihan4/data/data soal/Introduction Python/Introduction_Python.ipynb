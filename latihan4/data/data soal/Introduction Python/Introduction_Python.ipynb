{
 "cells": [
  {
   "cell_type": "markdown",
   "metadata": {},
   "source": [
    "## Import Library"
   ]
  },
  {
   "cell_type": "code",
   "execution_count": 1,
   "metadata": {},
   "outputs": [],
   "source": [
    "import pandas as pd\n",
    "import re"
   ]
  },
  {
   "cell_type": "markdown",
   "metadata": {},
   "source": [
    "## Load Data"
   ]
  },
  {
   "cell_type": "code",
   "execution_count": 2,
   "metadata": {},
   "outputs": [
    {
     "data": {
      "text/html": [
       "<div>\n",
       "<style scoped>\n",
       "    .dataframe tbody tr th:only-of-type {\n",
       "        vertical-align: middle;\n",
       "    }\n",
       "\n",
       "    .dataframe tbody tr th {\n",
       "        vertical-align: top;\n",
       "    }\n",
       "\n",
       "    .dataframe thead th {\n",
       "        text-align: right;\n",
       "    }\n",
       "</style>\n",
       "<table border=\"1\" class=\"dataframe\">\n",
       "  <thead>\n",
       "    <tr style=\"text-align: right;\">\n",
       "      <th></th>\n",
       "      <th>Instruction</th>\n",
       "      <th>Input</th>\n",
       "      <th>Output</th>\n",
       "      <th>materi</th>\n",
       "      <th>question_id</th>\n",
       "    </tr>\n",
       "  </thead>\n",
       "  <tbody>\n",
       "    <tr>\n",
       "      <th>0</th>\n",
       "      <td>Edit the following Python code such that it wi...</td>\n",
       "      <td>days = [\"Monday\", \"Thuesday\", \"Wednesday\", \"Th...</td>\n",
       "      <td>days = [\"Monday\", \"Tuesday\", \"Wednesday\", \"Thu...</td>\n",
       "      <td>Introduction Python</td>\n",
       "      <td>2</td>\n",
       "    </tr>\n",
       "    <tr>\n",
       "      <th>1</th>\n",
       "      <td>Generate a code snippet to print a pattern of ...</td>\n",
       "      <td>rows = 5</td>\n",
       "      <td># Use two for loops to print pattern\\nfor i in...</td>\n",
       "      <td>Introduction Python</td>\n",
       "      <td>11</td>\n",
       "    </tr>\n",
       "    <tr>\n",
       "      <th>2</th>\n",
       "      <td>Create a Python program to loop through a give...</td>\n",
       "      <td>my_list = [\"apples\", \"oranges\", \"bananas\"]</td>\n",
       "      <td>for item in my_list:\\n    print(item)</td>\n",
       "      <td>Introduction Python</td>\n",
       "      <td>58</td>\n",
       "    </tr>\n",
       "    <tr>\n",
       "      <th>3</th>\n",
       "      <td>Write a Python program to print the 3 most com...</td>\n",
       "      <td>Input = [2, 5, 3, 7, 8, 5, 10, 19, 20]</td>\n",
       "      <td>from collections import Counter\\n\\nInput = [2,...</td>\n",
       "      <td>Introduction Python</td>\n",
       "      <td>72</td>\n",
       "    </tr>\n",
       "    <tr>\n",
       "      <th>4</th>\n",
       "      <td>Design a Python program to read in a list of l...</td>\n",
       "      <td>[['b', 'a', 'd'], ['c', 'a', 'd'], ['a', 'f', ...</td>\n",
       "      <td>def removeduplicates(list_of_string):\\n    res...</td>\n",
       "      <td>Introduction Python</td>\n",
       "      <td>76</td>\n",
       "    </tr>\n",
       "  </tbody>\n",
       "</table>\n",
       "</div>"
      ],
      "text/plain": [
       "                                         Instruction  \\\n",
       "0  Edit the following Python code such that it wi...   \n",
       "1  Generate a code snippet to print a pattern of ...   \n",
       "2  Create a Python program to loop through a give...   \n",
       "3  Write a Python program to print the 3 most com...   \n",
       "4  Design a Python program to read in a list of l...   \n",
       "\n",
       "                                               Input  \\\n",
       "0  days = [\"Monday\", \"Thuesday\", \"Wednesday\", \"Th...   \n",
       "1                                           rows = 5   \n",
       "2         my_list = [\"apples\", \"oranges\", \"bananas\"]   \n",
       "3             Input = [2, 5, 3, 7, 8, 5, 10, 19, 20]   \n",
       "4  [['b', 'a', 'd'], ['c', 'a', 'd'], ['a', 'f', ...   \n",
       "\n",
       "                                              Output               materi  \\\n",
       "0  days = [\"Monday\", \"Tuesday\", \"Wednesday\", \"Thu...  Introduction Python   \n",
       "1  # Use two for loops to print pattern\\nfor i in...  Introduction Python   \n",
       "2              for item in my_list:\\n    print(item)  Introduction Python   \n",
       "3  from collections import Counter\\n\\nInput = [2,...  Introduction Python   \n",
       "4  def removeduplicates(list_of_string):\\n    res...  Introduction Python   \n",
       "\n",
       "   question_id  \n",
       "0            2  \n",
       "1           11  \n",
       "2           58  \n",
       "3           72  \n",
       "4           76  "
      ]
     },
     "execution_count": 2,
     "metadata": {},
     "output_type": "execute_result"
    }
   ],
   "source": [
    "\n",
    "file_path = 'https://raw.githubusercontent.com/valiarw/recommender/69ae8b2bae858e3d1b78322f865ff2c4c0a2ff8f/latihan4/data/kategori%20soal/introduction_python.csv'\n",
    "data = pd.read_csv(file_path)\n",
    "data.head()\n"
   ]
  },
  {
   "cell_type": "code",
   "execution_count": 4,
   "metadata": {},
   "outputs": [],
   "source": [
    "data['Full Code'] = data['Output']\n"
   ]
  },
  {
   "cell_type": "code",
   "execution_count": 5,
   "metadata": {},
   "outputs": [],
   "source": [
    "def add_placeholder(code):\n",
    "    \"\"\"\n",
    "    Gantikan bagian tertentu dalam kode dengan placeholder '___'.\n",
    "    \"\"\"\n",
    "    # Pisahkan kode menjadi baris-baris\n",
    "    lines = code.split('\\n')\n",
    "    \n",
    "    # Pola regex yang akan dicari\n",
    "    patterns = [\n",
    "        r'for\\s+.*\\s+in\\s+.*:' ,  # Pola untuk loop for\n",
    "        r'print\\w*\\((.*?)\\)'   ,    # Pola untuk kata print\n",
    "        r'\\b(introduction|intro)\\b.*\\b(python)\\b',  # Pola untuk 'introduction python' atau 'intro python'\n",
    "        r'\\bpython\\b'                             # Pola untuk kata 'python' di dalam kode\n",
    "    ]\n",
    "    \n",
    "    # Ganti baris yang cocok dengan pola menjadi '___'\n",
    "    for i, line in enumerate(lines):\n",
    "        for pattern in patterns:\n",
    "            if re.search(pattern, line):\n",
    "                lines[i] = \"    ___\"  # Placeholder\n",
    "    return \"\\n\".join(lines)"
   ]
  },
  {
   "cell_type": "markdown",
   "metadata": {},
   "source": [
    "Menambahkan kolom template untuk soal"
   ]
  },
  {
   "cell_type": "code",
   "execution_count": 6,
   "metadata": {},
   "outputs": [
    {
     "name": "stdout",
     "output_type": "stream",
     "text": [
      "def count_words(input_string):\n",
      "  words_count = {}\n",
      "  words = input_string.split()\n",
      "    ___\n",
      "    if word in words_count:\n",
      "      words_count[word] += 1\n",
      "    else:\n",
      "      words_count[word] = 1\n",
      "  return words_count\n",
      "\n",
      "words_count = count_words(input_string)\n",
      "    ___\n"
     ]
    }
   ],
   "source": [
    "# Terapkan fungsi pada kolom 'Full Code'\n",
    "data['Template'] = data['Full Code'].apply(add_placeholder)\n",
    "print(data['Template'][7])\n"
   ]
  },
  {
   "cell_type": "markdown",
   "metadata": {},
   "source": [
    "Membuat fungsi untuk mengecek data soal memiliki placeholder"
   ]
  },
  {
   "cell_type": "code",
   "execution_count": 7,
   "metadata": {},
   "outputs": [],
   "source": [
    "def check_placeholder_in_column(df, column_name, placeholder=\"___\"):\n",
    "    \"\"\"\n",
    "    Cek apakah kolom tertentu dalam DataFrame mengandung placeholder.\n",
    "    \n",
    "    Args:\n",
    "        df (pd.DataFrame): DataFrame yang akan dicek.\n",
    "        column_name (str): Nama kolom yang akan diperiksa.\n",
    "        placeholder (str): Placeholder yang dicari (default: \"___\").\n",
    "    \n",
    "    Returns:\n",
    "        pd.Series: Kolom boolean (True jika ada placeholder, False jika tidak).\n",
    "    \"\"\"\n",
    "    return df[column_name].str.contains(placeholder, na=False)\n"
   ]
  },
  {
   "cell_type": "code",
   "execution_count": 8,
   "metadata": {},
   "outputs": [
    {
     "name": "stdout",
     "output_type": "stream",
     "text": [
      "has_placeholder\n",
      "True     434\n",
      "False     19\n",
      "Name: count, dtype: int64\n"
     ]
    }
   ],
   "source": [
    "data[\"has_placeholder\"] = check_placeholder_in_column(data, \"Template\")\n",
    "\n",
    "print(data[\"has_placeholder\"].value_counts())"
   ]
  },
  {
   "cell_type": "code",
   "execution_count": 10,
   "metadata": {},
   "outputs": [],
   "source": [
    "# Hapus baris dengan nilai False\n",
    "data = data[data[\"has_placeholder\"]]\n"
   ]
  },
  {
   "cell_type": "code",
   "execution_count": 11,
   "metadata": {},
   "outputs": [
    {
     "name": "stdout",
     "output_type": "stream",
     "text": [
      "has_placeholder\n",
      "True    434\n",
      "Name: count, dtype: int64\n"
     ]
    }
   ],
   "source": [
    "print(data[\"has_placeholder\"].value_counts())\n",
    "\n",
    "# Hapus kolom 'has_placeholder' jika tidak diperlukan lagi\n",
    "data = data.drop(columns=[\"has_placeholder\"])\n"
   ]
  },
  {
   "cell_type": "markdown",
   "metadata": {},
   "source": [
    "## Save Data ke dalam csv"
   ]
  },
  {
   "cell_type": "code",
   "execution_count": 13,
   "metadata": {},
   "outputs": [],
   "source": [
    "# Simpan dataset yang telah diproses\n",
    "data.to_csv('Introduction_Python_with_placeholders.csv', index=False)"
   ]
  },
  {
   "cell_type": "code",
   "execution_count": null,
   "metadata": {},
   "outputs": [],
   "source": []
  }
 ],
 "metadata": {
  "kernelspec": {
   "display_name": "Python 3",
   "language": "python",
   "name": "python3"
  },
  "language_info": {
   "codemirror_mode": {
    "name": "ipython",
    "version": 3
   },
   "file_extension": ".py",
   "mimetype": "text/x-python",
   "name": "python",
   "nbconvert_exporter": "python",
   "pygments_lexer": "ipython3",
   "version": "3.11.0"
  }
 },
 "nbformat": 4,
 "nbformat_minor": 2
}
