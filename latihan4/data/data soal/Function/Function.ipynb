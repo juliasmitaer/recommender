{
 "cells": [
  {
   "cell_type": "markdown",
   "metadata": {},
   "source": [
    "## Import Library"
   ]
  },
  {
   "cell_type": "code",
   "execution_count": 1,
   "metadata": {},
   "outputs": [],
   "source": [
    "import pandas as pd\n",
    "import re"
   ]
  },
  {
   "cell_type": "markdown",
   "metadata": {},
   "source": [
    "## Load data"
   ]
  },
  {
   "cell_type": "code",
   "execution_count": 5,
   "metadata": {},
   "outputs": [
    {
     "data": {
      "text/html": [
       "<div>\n",
       "<style scoped>\n",
       "    .dataframe tbody tr th:only-of-type {\n",
       "        vertical-align: middle;\n",
       "    }\n",
       "\n",
       "    .dataframe tbody tr th {\n",
       "        vertical-align: top;\n",
       "    }\n",
       "\n",
       "    .dataframe thead th {\n",
       "        text-align: right;\n",
       "    }\n",
       "</style>\n",
       "<table border=\"1\" class=\"dataframe\">\n",
       "  <thead>\n",
       "    <tr style=\"text-align: right;\">\n",
       "      <th></th>\n",
       "      <th>Instruction</th>\n",
       "      <th>Input</th>\n",
       "      <th>Output</th>\n",
       "      <th>materi</th>\n",
       "      <th>question_id</th>\n",
       "    </tr>\n",
       "  </thead>\n",
       "  <tbody>\n",
       "    <tr>\n",
       "      <th>0</th>\n",
       "      <td>Generate a function in Python to convert a giv...</td>\n",
       "      <td>17</td>\n",
       "      <td>def convertToBinary(n): \\n  \\n    if n &gt; 1: \\n...</td>\n",
       "      <td>Function</td>\n",
       "      <td>14</td>\n",
       "    </tr>\n",
       "    <tr>\n",
       "      <th>1</th>\n",
       "      <td>Create a function in Python to compute a Fibon...</td>\n",
       "      <td>10</td>\n",
       "      <td>def fibonacci(n): \\n if n &lt; 0: \\n  print(\"Inco...</td>\n",
       "      <td>Function</td>\n",
       "      <td>18</td>\n",
       "    </tr>\n",
       "    <tr>\n",
       "      <th>2</th>\n",
       "      <td>Construct a function that will find the value ...</td>\n",
       "      <td>dictionary = {'key1':1, 'key2':2, 'key3':3}\\nk...</td>\n",
       "      <td>def find_value(dictionary, key):\\n    value = ...</td>\n",
       "      <td>Function</td>\n",
       "      <td>21</td>\n",
       "    </tr>\n",
       "    <tr>\n",
       "      <th>3</th>\n",
       "      <td>Design a Python function that converts strings...</td>\n",
       "      <td>This is an example sentence</td>\n",
       "      <td>def convertToCapitalize(sentence)\\n    words =...</td>\n",
       "      <td>Function</td>\n",
       "      <td>25</td>\n",
       "    </tr>\n",
       "    <tr>\n",
       "      <th>4</th>\n",
       "      <td>Create an AWS Lambda function in Python that a...</td>\n",
       "      <td>{\\n \"x\": 10,\\n \"y\": 20\\n}</td>\n",
       "      <td>import json\\n\\ndef handler(event, context):\\n ...</td>\n",
       "      <td>Function</td>\n",
       "      <td>52</td>\n",
       "    </tr>\n",
       "  </tbody>\n",
       "</table>\n",
       "</div>"
      ],
      "text/plain": [
       "                                         Instruction  \\\n",
       "0  Generate a function in Python to convert a giv...   \n",
       "1  Create a function in Python to compute a Fibon...   \n",
       "2  Construct a function that will find the value ...   \n",
       "3  Design a Python function that converts strings...   \n",
       "4  Create an AWS Lambda function in Python that a...   \n",
       "\n",
       "                                               Input  \\\n",
       "0                                                 17   \n",
       "1                                                 10   \n",
       "2  dictionary = {'key1':1, 'key2':2, 'key3':3}\\nk...   \n",
       "3                        This is an example sentence   \n",
       "4                          {\\n \"x\": 10,\\n \"y\": 20\\n}   \n",
       "\n",
       "                                              Output    materi  question_id  \n",
       "0  def convertToBinary(n): \\n  \\n    if n > 1: \\n...  Function           14  \n",
       "1  def fibonacci(n): \\n if n < 0: \\n  print(\"Inco...  Function           18  \n",
       "2  def find_value(dictionary, key):\\n    value = ...  Function           21  \n",
       "3  def convertToCapitalize(sentence)\\n    words =...  Function           25  \n",
       "4  import json\\n\\ndef handler(event, context):\\n ...  Function           52  "
      ]
     },
     "execution_count": 5,
     "metadata": {},
     "output_type": "execute_result"
    }
   ],
   "source": [
    "file_path = r'C:\\Capstone\\recommender\\recommender\\latihan4\\data\\kategori soal\\function.csv'\n",
    "\n",
    "data = pd.read_csv(file_path)\n",
    "\n",
    "data.head()"
   ]
  },
  {
   "cell_type": "code",
   "execution_count": 6,
   "metadata": {},
   "outputs": [],
   "source": [
    "data['Full Code'] = data['Output']\n"
   ]
  },
  {
   "cell_type": "code",
   "execution_count": 8,
   "metadata": {},
   "outputs": [],
   "source": [
    "def add_placeholder(code):\n",
    "    \"\"\"\n",
    "    Gantikan bagian tertentu dalam kode dengan placeholder '___'.\n",
    "    \"\"\"\n",
    "    # Pisahkan kode menjadi baris-baris\n",
    "    lines = code.split('\\n')\n",
    "    \n",
    "    # Pola regex yang akan dicari\n",
    "    patterns = [\n",
    "        r'def\\s+\\w+\\(.*\\):',  # Pola untuk mendeteksi definisi fungsi\n",
    "        r'if\\s+.*:',          # Pola untuk kondisi if\n",
    "        r'for\\s+.*\\s+in\\s+.*:',  # Pola untuk loop for\n",
    "        r'while\\s+.*:'        # Pola untuk loop while\n",
    "    ]\n",
    "    \n",
    "    # Ganti baris yang cocok dengan pola menjadi '___'\n",
    "    for i, line in enumerate(lines):\n",
    "        for pattern in patterns:\n",
    "            if re.search(pattern, line):\n",
    "                lines[i] = \"    ___\"  # Placeholder\n",
    "    return \"\\n\".join(lines)"
   ]
  },
  {
   "cell_type": "markdown",
   "metadata": {},
   "source": [
    "Menambah kolom Template untuk soal "
   ]
  },
  {
   "cell_type": "code",
   "execution_count": 9,
   "metadata": {},
   "outputs": [
    {
     "name": "stdout",
     "output_type": "stream",
     "text": [
      "    ___\n",
      "    return sentence.count(character)\n"
     ]
    }
   ],
   "source": [
    "# Terapkan fungsi pada kolom 'Full Code'\n",
    "data['Template'] = data['Full Code'].apply(add_placeholder)\n",
    "print(data['Template'][7])\n"
   ]
  },
  {
   "cell_type": "markdown",
   "metadata": {},
   "source": [
    "Membuat fungsi untuk mengecek data soal memiliki placeholder"
   ]
  },
  {
   "cell_type": "code",
   "execution_count": 10,
   "metadata": {},
   "outputs": [],
   "source": [
    "def check_placeholder_in_column(df, column_name, placeholder=\"___\"):\n",
    "    \"\"\"\n",
    "    Cek apakah kolom tertentu dalam DataFrame mengandung placeholder.\n",
    "    \n",
    "    Args:\n",
    "        df (pd.DataFrame): DataFrame yang akan dicek.\n",
    "        column_name (str): Nama kolom yang akan diperiksa.\n",
    "        placeholder (str): Placeholder yang dicari (default: \"___\").\n",
    "    \n",
    "    Returns:\n",
    "        pd.Series: Kolom boolean (True jika ada placeholder, False jika tidak).\n",
    "    \"\"\"\n",
    "    return df[column_name].str.contains(placeholder, na=False)\n"
   ]
  },
  {
   "cell_type": "code",
   "execution_count": 11,
   "metadata": {},
   "outputs": [
    {
     "name": "stdout",
     "output_type": "stream",
     "text": [
      "has_placeholder\n",
      "True     483\n",
      "False     29\n",
      "Name: count, dtype: int64\n"
     ]
    }
   ],
   "source": [
    "data[\"has_placeholder\"] = check_placeholder_in_column(data, \"Template\")\n",
    "\n",
    "print(data[\"has_placeholder\"].value_counts())"
   ]
  },
  {
   "cell_type": "code",
   "execution_count": 12,
   "metadata": {},
   "outputs": [
    {
     "name": "stdout",
     "output_type": "stream",
     "text": [
      "has_placeholder\n",
      "True    483\n",
      "Name: count, dtype: int64\n"
     ]
    }
   ],
   "source": [
    "# Hapus baris dengan nilai False\n",
    "data = data[data[\"has_placeholder\"]]\n",
    "\n",
    "print(data[\"has_placeholder\"].value_counts())\n",
    "\n",
    "# Hapus kolom 'has_placeholder' jika tidak diperlukan lagi\n",
    "data = data.drop(columns=[\"has_placeholder\"])\n"
   ]
  },
  {
   "cell_type": "markdown",
   "metadata": {},
   "source": [
    "## Save Data"
   ]
  },
  {
   "cell_type": "code",
   "execution_count": 13,
   "metadata": {},
   "outputs": [],
   "source": [
    "# Simpan dataset yang telah diproses\n",
    "data.to_csv('Function_with_placeholders.csv', index=False)"
   ]
  },
  {
   "cell_type": "markdown",
   "metadata": {},
   "source": []
  }
 ],
 "metadata": {
  "kernelspec": {
   "display_name": "Python 3",
   "language": "python",
   "name": "python3"
  },
  "language_info": {
   "codemirror_mode": {
    "name": "ipython",
    "version": 3
   },
   "file_extension": ".py",
   "mimetype": "text/x-python",
   "name": "python",
   "nbconvert_exporter": "python",
   "pygments_lexer": "ipython3",
   "version": "3.11.0"
  }
 },
 "nbformat": 4,
 "nbformat_minor": 2
}
