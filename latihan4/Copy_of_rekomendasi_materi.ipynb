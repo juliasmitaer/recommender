{
 "cells": [
  {
   "cell_type": "markdown",
   "id": "a3dd04f3-76f5-41e2-b7cf-5efb130f7622",
   "metadata": {
    "id": "a3dd04f3-76f5-41e2-b7cf-5efb130f7622"
   },
   "source": [
    "# REKOMENDASI MATERI BERDASARKAN BANYAKNYA KESALAHAN USER SAAT MENJAWAB SOAL"
   ]
  },
  {
   "cell_type": "markdown",
   "id": "5280fdf1",
   "metadata": {},
   "source": []
  },
  {
   "cell_type": "markdown",
   "id": "5e6fb8c2-0df4-40e3-acb6-87dfde1ba53c",
   "metadata": {
    "id": "5e6fb8c2-0df4-40e3-acb6-87dfde1ba53c"
   },
   "source": [
    "### IMPORT LIBRARY"
   ]
  },
  {
   "cell_type": "code",
   "execution_count": 1,
   "id": "320cf3d7-0508-4269-8a1a-bf4b5ee7db96",
   "metadata": {
    "id": "320cf3d7-0508-4269-8a1a-bf4b5ee7db96"
   },
   "outputs": [],
   "source": [
    "import pandas as pd\n",
    "import numpy as np\n",
    "import re\n",
    "from sklearn.feature_extraction.text import TfidfVectorizer\n",
    "from sklearn.model_selection import train_test_split\n",
    "from sklearn.preprocessing import MinMaxScaler\n",
    "import tensorflow as tf\n",
    "from tensorflow.keras.models import Sequential\n",
    "from tensorflow.keras.layers import Input, Dense, Dropout, BatchNormalization\n",
    "from tensorflow.keras.regularizers import l2\n",
    "from tensorflow.keras.callbacks import EarlyStopping, ReduceLROnPlateau, ModelCheckpoint\n",
    "import keras_tuner as kt"
   ]
  },
  {
   "cell_type": "markdown",
   "id": "796d50c0-a6e3-49db-8d2a-d87bf01a0621",
   "metadata": {
    "id": "796d50c0-a6e3-49db-8d2a-d87bf01a0621"
   },
   "source": [
    "### LOAD DATASET"
   ]
  },
  {
   "cell_type": "code",
   "execution_count": 5,
   "id": "fb4eee13-cbc6-49ba-a836-b40993dd40a8",
   "metadata": {
    "colab": {
     "base_uri": "https://localhost:8080/",
     "height": 547
    },
    "id": "fb4eee13-cbc6-49ba-a836-b40993dd40a8",
    "outputId": "79c4e1d7-1c4e-4013-b81e-4d0d64401806"
   },
   "outputs": [],
   "source": [
    "\n",
    "data = pd.read_csv('../latihan4/data/Python_Programming_Questions_Dataset_bersih.csv')  \n",
    "\n",
    "# Tukar Input dan Output\n",
    "data['Corrected_Input'] = data['Output']\n",
    "data['Corrected_Output'] = data['Input']\n",
    "data['text'] = data['Instruction'] + \" \" + data['Corrected_Input'] + \" \" + data['Corrected_Output']\n",
    "\n",
    "\n",
    "\n",
    "# Menambah kolom materi\n",
    "def categorize_question(Instruction):\n",
    "    if re.search(r'\\b(print|hello world|basic)\\b', Instruction, re.IGNORECASE):\n",
    "        return 'Introduction Python'\n",
    "    elif re.search(r'\\b(\\+|\\-|\\*|\\/|\\%|\\*\\*|==|!=|<|>|<=|>=|=)\\b', Instruction):\n",
    "        return 'Operator'\n",
    "    elif re.search(r'\\b(int|float|string|bool|type)\\b', Instruction, re.IGNORECASE):\n",
    "        return 'Data Type'\n",
    "    elif re.search(r'\\b(list|tuple|dict|set|array)\\b', Instruction, re.IGNORECASE):\n",
    "        return 'Data Structure'\n",
    "    elif re.search(r'\\b(if|else|while|for|break|continue)\\b', Instruction, re.IGNORECASE):\n",
    "        return 'Control Structure'\n",
    "    elif re.search(r'\\b(def|function|return)\\b', Instruction, re.IGNORECASE):\n",
    "        return 'Function'\n",
    "    elif re.search(r'\\b(class|object|inheritance|method|self)\\b', Instruction, re.IGNORECASE):\n",
    "        return 'OOP'\n",
    "    else:\n",
    "        return 'Lainnya'\n",
    "\n",
    "# Menerapkan pada dataset\n",
    "data['materi'] = data['Instruction'].apply(categorize_question)\n",
    "\n",
    "# Menambahkan kolom ID soal\n",
    "data['question_id'] = data.index\n",
    "\n",
    "# Dataset dummy interaksi user\n",
    "interaction_data = {\n",
    "    'user_id': [1, 1, 2, 2, 3, 3, 3],\n",
    "    'question_id': [0, 1, 1, 2, 2, 3, 4],\n",
    "    'attempts': [3, 2, 4, 1, 3, 2, 1],\n",
    "    'correct': [1, 0, 1, 1, 1, 0, 1],\n",
    "    'duration': [30, 45, 60, 35, 50, 20, 25]\n",
    "}\n",
    "interaction_df = pd.DataFrame(interaction_data)\n",
    "\n",
    "# Menggabungkan interaksi dengan soal\n",
    "interaction_df = interaction_df.merge(data[['question_id', 'materi']], on='question_id', how='left')"
   ]
  },
  {
   "cell_type": "markdown",
   "id": "70c329ee-5ed2-442d-8160-44838a3ea285",
   "metadata": {
    "id": "70c329ee-5ed2-442d-8160-44838a3ea285"
   },
   "source": [
    "### PREPROCESSING DATA"
   ]
  },
  {
   "cell_type": "code",
   "execution_count": 6,
   "id": "354ce67c-67d8-47f9-bae5-dec56a6116f4",
   "metadata": {
    "id": "354ce67c-67d8-47f9-bae5-dec56a6116f4",
    "scrolled": true
   },
   "outputs": [
    {
     "name": "stdout",
     "output_type": "stream",
     "text": [
      "   question_id  attempts  correct  duration  avg_error_rate\n",
      "0            0       3.0      1.0      30.0             0.0\n",
      "1            1       3.0      0.5      52.5             0.5\n",
      "2            2       2.0      1.0      42.5             0.0\n",
      "3            3       2.0      0.0      20.0             1.0\n",
      "4            4       1.0      1.0      25.0             0.0\n"
     ]
    }
   ],
   "source": [
    "# Fitur interaksi user\n",
    "error_data = interaction_df.groupby('question_id').agg({\n",
    "    'attempts': 'mean',\n",
    "    'correct': 'mean',\n",
    "    'duration': 'mean'\n",
    "}).reset_index()\n",
    "\n",
    "# Hitung kesalahan per materi\n",
    "error_data['avg_error_rate'] = 1 - error_data['correct']\n",
    "print(error_data)\n",
    "\n",
    "# Representasi TF-IDF untuk teks\n",
    "tfidf = TfidfVectorizer(max_features=2000)\n",
    "tfidf_matrix = tfidf.fit_transform(data['text']).toarray()\n",
    "\n",
    "# Mendapatkan materi dengan kesalahan tertinggi\n",
    "top_error_materis = error_data.sort_values(by='avg_error_rate', ascending=False).head(5)\n",
    "\n",
    "# Menggabungkan fitur TF-IDF dengan kolom materi\n",
    "features = pd.DataFrame(tfidf_matrix)\n",
    "\n",
    "# Menambahkan kolom 'materi' ke dalam fitur\n",
    "features['materi'] = data['materi']\n",
    "\n",
    "# Encode target materi\n",
    "data['target'] = data['materi'].astype('category').cat.codes\n",
    "num_classes = len(data['target'].unique())\n",
    "\n",
    "# Split data menjadi train dan test\n",
    "X_train, X_test, y_train, y_test = train_test_split(features.drop('materi', axis=1), data['target'], test_size=0.2, random_state=42)\n",
    "\n",
    "# One-hot encoding untuk target\n",
    "y_train = tf.keras.utils.to_categorical(y_train, num_classes=num_classes)\n",
    "y_test = tf.keras.utils.to_categorical(y_test, num_classes=num_classes)"
   ]
  },
  {
   "cell_type": "markdown",
   "id": "2a990c72-53f6-4499-81cc-7fb1a8dcc32c",
   "metadata": {
    "id": "2a990c72-53f6-4499-81cc-7fb1a8dcc32c"
   },
   "source": [
    "\n",
    "### MEMBANGUN MODEL\n"
   ]
  },
  {
   "cell_type": "code",
   "execution_count": 7,
   "id": "0fa54690-32f0-4fbf-9c97-05d8fa80e860",
   "metadata": {
    "id": "0fa54690-32f0-4fbf-9c97-05d8fa80e860"
   },
   "outputs": [],
   "source": [
    "def build_model(hp):\n",
    "    model = tf.keras.Sequential()\n",
    "    model.add(Input(shape=(X_train.shape[1],)))\n",
    "    model.add(Dense(256, activation='relu', kernel_regularizer=l2(0.01)))\n",
    "    model.add(Dropout(0.6))\n",
    "    model.add(BatchNormalization())\n",
    "    model.add(Dense(128, activation='relu', kernel_regularizer=l2(0.01)))\n",
    "    model.add(Dropout(0.6))\n",
    "    model.add(BatchNormalization())\n",
    "    model.add(Dense(64, activation='relu', kernel_regularizer=l2(0.01)))\n",
    "    model.add(Dropout(0.6))\n",
    "    model.add(BatchNormalization())\n",
    "    model.add(Dense(y_train.shape[1], activation='softmax'))\n",
    "\n",
    "    model.compile(\n",
    "        optimizer=tf.keras.optimizers.Adam(\n",
    "            learning_rate=hp.Choice('learning_rate', values=[1e-2, 1e-3, 1e-4])\n",
    "        ),\n",
    "        loss='categorical_crossentropy',\n",
    "        metrics=['accuracy']\n",
    "    )\n",
    "    return model"
   ]
  },
  {
   "cell_type": "code",
   "execution_count": 8,
   "id": "0b4e685e-52eb-48a6-9131-8691938994c6",
   "metadata": {
    "id": "0b4e685e-52eb-48a6-9131-8691938994c6"
   },
   "outputs": [
    {
     "name": "stdout",
     "output_type": "stream",
     "text": [
      "Trial 3 Complete [00h 06m 19s]\n",
      "val_accuracy: 0.7443782985210419\n",
      "\n",
      "Best val_accuracy So Far: 0.7443782985210419\n",
      "Total elapsed time: 00h 20m 52s\n"
     ]
    }
   ],
   "source": [
    "# Hyperparameter tuning\n",
    "tuner = kt.RandomSearch(\n",
    "    build_model,\n",
    "    objective='val_accuracy',\n",
    "    max_trials=10,\n",
    "    executions_per_trial=2,\n",
    "    directory='model_tuning',\n",
    "    project_name='CodeyApp_recommendation_system'\n",
    ")\n",
    "\n",
    "\n",
    "# pencarian hyperparameter\n",
    "tuner.search(X_train, y_train, epochs=20, validation_data=(X_test, y_test),\n",
    "             callbacks=[EarlyStopping(monitor='val_loss', patience=3)])\n",
    "\n",
    "# Mendapatkan hyperparameter yang bagus\n",
    "best_hps = tuner.get_best_hyperparameters(num_trials=1)[0]\n",
    "model = tuner.hypermodel.build(best_hps)"
   ]
  },
  {
   "cell_type": "markdown",
   "id": "bc7995b1-6748-40a7-914b-07c80df10934",
   "metadata": {
    "id": "bc7995b1-6748-40a7-914b-07c80df10934"
   },
   "source": [
    "### TRAIN MODEL"
   ]
  },
  {
   "cell_type": "code",
   "execution_count": 12,
   "id": "5766b47e-91fb-4f78-bc69-a67f43428877",
   "metadata": {
    "id": "5766b47e-91fb-4f78-bc69-a67f43428877"
   },
   "outputs": [
    {
     "name": "stdout",
     "output_type": "stream",
     "text": [
      "Epoch 1/50\n",
      "\u001b[1m188/189\u001b[0m \u001b[32m━━━━━━━━━━━━━━━━━━━\u001b[0m\u001b[37m━\u001b[0m \u001b[1m0s\u001b[0m 35ms/step - accuracy: 0.1961 - loss: 6.5976\n",
      "Epoch 1: val_loss improved from inf to 4.52122, saving model to best_model.keras\n",
      "\u001b[1m189/189\u001b[0m \u001b[32m━━━━━━━━━━━━━━━━━━━━\u001b[0m\u001b[37m\u001b[0m \u001b[1m19s\u001b[0m 45ms/step - accuracy: 0.1969 - loss: 6.5863 - val_accuracy: 0.2976 - val_loss: 4.5212 - learning_rate: 0.0010\n",
      "Epoch 2/50\n",
      "\u001b[1m188/189\u001b[0m \u001b[32m━━━━━━━━━━━━━━━━━━━\u001b[0m\u001b[37m━\u001b[0m \u001b[1m0s\u001b[0m 35ms/step - accuracy: 0.4724 - loss: 4.1911\n",
      "Epoch 2: val_loss improved from 4.52122 to 3.61913, saving model to best_model.keras\n",
      "\u001b[1m189/189\u001b[0m \u001b[32m━━━━━━━━━━━━━━━━━━━━\u001b[0m\u001b[37m\u001b[0m \u001b[1m9s\u001b[0m 39ms/step - accuracy: 0.4729 - loss: 4.1882 - val_accuracy: 0.4015 - val_loss: 3.6191 - learning_rate: 0.0010\n",
      "Epoch 3/50\n",
      "\u001b[1m188/189\u001b[0m \u001b[32m━━━━━━━━━━━━━━━━━━━\u001b[0m\u001b[37m━\u001b[0m \u001b[1m0s\u001b[0m 46ms/step - accuracy: 0.5939 - loss: 3.2574\n",
      "Epoch 3: val_loss improved from 3.61913 to 2.79404, saving model to best_model.keras\n",
      "\u001b[1m189/189\u001b[0m \u001b[32m━━━━━━━━━━━━━━━━━━━━\u001b[0m\u001b[37m\u001b[0m \u001b[1m13s\u001b[0m 49ms/step - accuracy: 0.5940 - loss: 3.2557 - val_accuracy: 0.5899 - val_loss: 2.7940 - learning_rate: 0.0010\n",
      "Epoch 4/50\n",
      "\u001b[1m188/189\u001b[0m \u001b[32m━━━━━━━━━━━━━━━━━━━\u001b[0m\u001b[37m━\u001b[0m \u001b[1m0s\u001b[0m 41ms/step - accuracy: 0.6225 - loss: 2.6821\n",
      "Epoch 4: val_loss improved from 2.79404 to 2.28298, saving model to best_model.keras\n",
      "\u001b[1m189/189\u001b[0m \u001b[32m━━━━━━━━━━━━━━━━━━━━\u001b[0m\u001b[37m\u001b[0m \u001b[1m10s\u001b[0m 44ms/step - accuracy: 0.6226 - loss: 2.6809 - val_accuracy: 0.6515 - val_loss: 2.2830 - learning_rate: 0.0010\n",
      "Epoch 5/50\n",
      "\u001b[1m188/189\u001b[0m \u001b[32m━━━━━━━━━━━━━━━━━━━\u001b[0m\u001b[37m━\u001b[0m \u001b[1m0s\u001b[0m 45ms/step - accuracy: 0.6642 - loss: 2.2022\n",
      "Epoch 5: val_loss improved from 2.28298 to 1.96712, saving model to best_model.keras\n",
      "\u001b[1m189/189\u001b[0m \u001b[32m━━━━━━━━━━━━━━━━━━━━\u001b[0m\u001b[37m\u001b[0m \u001b[1m11s\u001b[0m 48ms/step - accuracy: 0.6640 - loss: 2.2018 - val_accuracy: 0.6706 - val_loss: 1.9671 - learning_rate: 0.0010\n",
      "Epoch 6/50\n",
      "\u001b[1m189/189\u001b[0m \u001b[32m━━━━━━━━━━━━━━━━━━━━\u001b[0m\u001b[37m\u001b[0m \u001b[1m0s\u001b[0m 53ms/step - accuracy: 0.6511 - loss: 1.9642\n",
      "Epoch 6: val_loss improved from 1.96712 to 1.78166, saving model to best_model.keras\n",
      "\u001b[1m189/189\u001b[0m \u001b[32m━━━━━━━━━━━━━━━━━━━━\u001b[0m\u001b[37m\u001b[0m \u001b[1m13s\u001b[0m 58ms/step - accuracy: 0.6511 - loss: 1.9640 - val_accuracy: 0.6713 - val_loss: 1.7817 - learning_rate: 0.0010\n",
      "Epoch 7/50\n",
      "\u001b[1m188/189\u001b[0m \u001b[32m━━━━━━━━━━━━━━━━━━━\u001b[0m\u001b[37m━\u001b[0m \u001b[1m0s\u001b[0m 47ms/step - accuracy: 0.6795 - loss: 1.7764\n",
      "Epoch 7: val_loss improved from 1.78166 to 1.67409, saving model to best_model.keras\n",
      "\u001b[1m189/189\u001b[0m \u001b[32m━━━━━━━━━━━━━━━━━━━━\u001b[0m\u001b[37m\u001b[0m \u001b[1m19s\u001b[0m 49ms/step - accuracy: 0.6794 - loss: 1.7765 - val_accuracy: 0.6905 - val_loss: 1.6741 - learning_rate: 0.0010\n",
      "Epoch 8/50\n",
      "\u001b[1m189/189\u001b[0m \u001b[32m━━━━━━━━━━━━━━━━━━━━\u001b[0m\u001b[37m\u001b[0m \u001b[1m0s\u001b[0m 31ms/step - accuracy: 0.6865 - loss: 1.6856\n",
      "Epoch 8: val_loss improved from 1.67409 to 1.59462, saving model to best_model.keras\n",
      "\u001b[1m189/189\u001b[0m \u001b[32m━━━━━━━━━━━━━━━━━━━━\u001b[0m\u001b[37m\u001b[0m \u001b[1m8s\u001b[0m 35ms/step - accuracy: 0.6864 - loss: 1.6857 - val_accuracy: 0.7235 - val_loss: 1.5946 - learning_rate: 0.0010\n",
      "Epoch 9/50\n",
      "\u001b[1m189/189\u001b[0m \u001b[32m━━━━━━━━━━━━━━━━━━━━\u001b[0m\u001b[37m\u001b[0m \u001b[1m0s\u001b[0m 47ms/step - accuracy: 0.6911 - loss: 1.6538\n",
      "Epoch 9: val_loss improved from 1.59462 to 1.57046, saving model to best_model.keras\n",
      "\u001b[1m189/189\u001b[0m \u001b[32m━━━━━━━━━━━━━━━━━━━━\u001b[0m\u001b[37m\u001b[0m \u001b[1m14s\u001b[0m 51ms/step - accuracy: 0.6911 - loss: 1.6539 - val_accuracy: 0.7341 - val_loss: 1.5705 - learning_rate: 0.0010\n",
      "Epoch 10/50\n",
      "\u001b[1m188/189\u001b[0m \u001b[32m━━━━━━━━━━━━━━━━━━━\u001b[0m\u001b[37m━\u001b[0m \u001b[1m0s\u001b[0m 55ms/step - accuracy: 0.7073 - loss: 1.6174\n",
      "Epoch 10: val_loss improved from 1.57046 to 1.56775, saving model to best_model.keras\n",
      "\u001b[1m189/189\u001b[0m \u001b[32m━━━━━━━━━━━━━━━━━━━━\u001b[0m\u001b[37m\u001b[0m \u001b[1m12s\u001b[0m 58ms/step - accuracy: 0.7071 - loss: 1.6177 - val_accuracy: 0.7354 - val_loss: 1.5678 - learning_rate: 0.0010\n",
      "Epoch 11/50\n",
      "\u001b[1m189/189\u001b[0m \u001b[32m━━━━━━━━━━━━━━━━━━━━\u001b[0m\u001b[37m\u001b[0m \u001b[1m0s\u001b[0m 56ms/step - accuracy: 0.7029 - loss: 1.6144\n",
      "Epoch 11: val_loss improved from 1.56775 to 1.53833, saving model to best_model.keras\n",
      "\u001b[1m189/189\u001b[0m \u001b[32m━━━━━━━━━━━━━━━━━━━━\u001b[0m\u001b[37m\u001b[0m \u001b[1m22s\u001b[0m 64ms/step - accuracy: 0.7029 - loss: 1.6145 - val_accuracy: 0.7361 - val_loss: 1.5383 - learning_rate: 0.0010\n",
      "Epoch 12/50\n",
      "\u001b[1m188/189\u001b[0m \u001b[32m━━━━━━━━━━━━━━━━━━━\u001b[0m\u001b[37m━\u001b[0m \u001b[1m0s\u001b[0m 46ms/step - accuracy: 0.7216 - loss: 1.5712\n",
      "Epoch 12: val_loss improved from 1.53833 to 1.53289, saving model to best_model.keras\n",
      "\u001b[1m189/189\u001b[0m \u001b[32m━━━━━━━━━━━━━━━━━━━━\u001b[0m\u001b[37m\u001b[0m \u001b[1m20s\u001b[0m 51ms/step - accuracy: 0.7215 - loss: 1.5715 - val_accuracy: 0.7493 - val_loss: 1.5329 - learning_rate: 0.0010\n",
      "Epoch 13/50\n",
      "\u001b[1m189/189\u001b[0m \u001b[32m━━━━━━━━━━━━━━━━━━━━\u001b[0m\u001b[37m\u001b[0m \u001b[1m0s\u001b[0m 45ms/step - accuracy: 0.7157 - loss: 1.5975\n",
      "Epoch 13: val_loss did not improve from 1.53289\n",
      "\u001b[1m189/189\u001b[0m \u001b[32m━━━━━━━━━━━━━━━━━━━━\u001b[0m\u001b[37m\u001b[0m \u001b[1m21s\u001b[0m 51ms/step - accuracy: 0.7157 - loss: 1.5975 - val_accuracy: 0.7368 - val_loss: 1.5484 - learning_rate: 0.0010\n",
      "Epoch 14/50\n",
      "\u001b[1m188/189\u001b[0m \u001b[32m━━━━━━━━━━━━━━━━━━━\u001b[0m\u001b[37m━\u001b[0m \u001b[1m0s\u001b[0m 42ms/step - accuracy: 0.7242 - loss: 1.5828\n",
      "Epoch 14: val_loss did not improve from 1.53289\n",
      "\u001b[1m189/189\u001b[0m \u001b[32m━━━━━━━━━━━━━━━━━━━━\u001b[0m\u001b[37m\u001b[0m \u001b[1m9s\u001b[0m 44ms/step - accuracy: 0.7241 - loss: 1.5831 - val_accuracy: 0.7295 - val_loss: 1.5699 - learning_rate: 0.0010\n",
      "Epoch 15/50\n",
      "\u001b[1m188/189\u001b[0m \u001b[32m━━━━━━━━━━━━━━━━━━━\u001b[0m\u001b[37m━\u001b[0m \u001b[1m0s\u001b[0m 33ms/step - accuracy: 0.7183 - loss: 1.5919\n",
      "Epoch 15: ReduceLROnPlateau reducing learning rate to 0.0005000000237487257.\n",
      "\n",
      "Epoch 15: val_loss did not improve from 1.53289\n",
      "\u001b[1m189/189\u001b[0m \u001b[32m━━━━━━━━━━━━━━━━━━━━\u001b[0m\u001b[37m\u001b[0m \u001b[1m8s\u001b[0m 42ms/step - accuracy: 0.7183 - loss: 1.5921 - val_accuracy: 0.7447 - val_loss: 1.5362 - learning_rate: 0.0010\n",
      "Epoch 16/50\n",
      "\u001b[1m188/189\u001b[0m \u001b[32m━━━━━━━━━━━━━━━━━━━\u001b[0m\u001b[37m━\u001b[0m \u001b[1m0s\u001b[0m 58ms/step - accuracy: 0.7279 - loss: 1.5522\n",
      "Epoch 16: val_loss improved from 1.53289 to 1.42821, saving model to best_model.keras\n",
      "\u001b[1m189/189\u001b[0m \u001b[32m━━━━━━━━━━━━━━━━━━━━\u001b[0m\u001b[37m\u001b[0m \u001b[1m14s\u001b[0m 62ms/step - accuracy: 0.7280 - loss: 1.5517 - val_accuracy: 0.7467 - val_loss: 1.4282 - learning_rate: 5.0000e-04\n",
      "Epoch 17/50\n",
      "\u001b[1m189/189\u001b[0m \u001b[32m━━━━━━━━━━━━━━━━━━━━\u001b[0m\u001b[37m\u001b[0m \u001b[1m0s\u001b[0m 49ms/step - accuracy: 0.7649 - loss: 1.3683\n",
      "Epoch 17: val_loss improved from 1.42821 to 1.35844, saving model to best_model.keras\n",
      "\u001b[1m189/189\u001b[0m \u001b[32m━━━━━━━━━━━━━━━━━━━━\u001b[0m\u001b[37m\u001b[0m \u001b[1m20s\u001b[0m 57ms/step - accuracy: 0.7649 - loss: 1.3682 - val_accuracy: 0.7500 - val_loss: 1.3584 - learning_rate: 5.0000e-04\n",
      "Epoch 18/50\n",
      "\u001b[1m189/189\u001b[0m \u001b[32m━━━━━━━━━━━━━━━━━━━━\u001b[0m\u001b[37m\u001b[0m \u001b[1m0s\u001b[0m 50ms/step - accuracy: 0.7700 - loss: 1.2728\n",
      "Epoch 18: val_loss improved from 1.35844 to 1.32531, saving model to best_model.keras\n",
      "\u001b[1m189/189\u001b[0m \u001b[32m━━━━━━━━━━━━━━━━━━━━\u001b[0m\u001b[37m\u001b[0m \u001b[1m11s\u001b[0m 56ms/step - accuracy: 0.7700 - loss: 1.2729 - val_accuracy: 0.7487 - val_loss: 1.3253 - learning_rate: 5.0000e-04\n",
      "Epoch 19/50\n",
      "\u001b[1m188/189\u001b[0m \u001b[32m━━━━━━━━━━━━━━━━━━━\u001b[0m\u001b[37m━\u001b[0m \u001b[1m0s\u001b[0m 52ms/step - accuracy: 0.7793 - loss: 1.2257\n",
      "Epoch 19: val_loss improved from 1.32531 to 1.26901, saving model to best_model.keras\n",
      "\u001b[1m189/189\u001b[0m \u001b[32m━━━━━━━━━━━━━━━━━━━━\u001b[0m\u001b[37m\u001b[0m \u001b[1m21s\u001b[0m 55ms/step - accuracy: 0.7793 - loss: 1.2258 - val_accuracy: 0.7685 - val_loss: 1.2690 - learning_rate: 5.0000e-04\n",
      "Epoch 20/50\n",
      "\u001b[1m189/189\u001b[0m \u001b[32m━━━━━━━━━━━━━━━━━━━━\u001b[0m\u001b[37m\u001b[0m \u001b[1m0s\u001b[0m 47ms/step - accuracy: 0.7872 - loss: 1.1646\n",
      "Epoch 20: val_loss did not improve from 1.26901\n",
      "\u001b[1m189/189\u001b[0m \u001b[32m━━━━━━━━━━━━━━━━━━━━\u001b[0m\u001b[37m\u001b[0m \u001b[1m10s\u001b[0m 53ms/step - accuracy: 0.7872 - loss: 1.1647 - val_accuracy: 0.7474 - val_loss: 1.2782 - learning_rate: 5.0000e-04\n",
      "Epoch 21/50\n",
      "\u001b[1m188/189\u001b[0m \u001b[32m━━━━━━━━━━━━━━━━━━━\u001b[0m\u001b[37m━\u001b[0m \u001b[1m0s\u001b[0m 45ms/step - accuracy: 0.7838 - loss: 1.1636\n",
      "Epoch 21: val_loss did not improve from 1.26901\n",
      "\u001b[1m189/189\u001b[0m \u001b[32m━━━━━━━━━━━━━━━━━━━━\u001b[0m\u001b[37m\u001b[0m \u001b[1m10s\u001b[0m 47ms/step - accuracy: 0.7837 - loss: 1.1639 - val_accuracy: 0.7440 - val_loss: 1.2943 - learning_rate: 5.0000e-04\n",
      "Epoch 22/50\n",
      "\u001b[1m188/189\u001b[0m \u001b[32m━━━━━━━━━━━━━━━━━━━\u001b[0m\u001b[37m━\u001b[0m \u001b[1m0s\u001b[0m 49ms/step - accuracy: 0.7971 - loss: 1.1569\n",
      "Epoch 22: ReduceLROnPlateau reducing learning rate to 0.0002500000118743628.\n",
      "\n",
      "Epoch 22: val_loss did not improve from 1.26901\n",
      "\u001b[1m189/189\u001b[0m \u001b[32m━━━━━━━━━━━━━━━━━━━━\u001b[0m\u001b[37m\u001b[0m \u001b[1m12s\u001b[0m 52ms/step - accuracy: 0.7970 - loss: 1.1571 - val_accuracy: 0.7566 - val_loss: 1.2773 - learning_rate: 5.0000e-04\n",
      "Epoch 23/50\n",
      "\u001b[1m189/189\u001b[0m \u001b[32m━━━━━━━━━━━━━━━━━━━━\u001b[0m\u001b[37m\u001b[0m \u001b[1m0s\u001b[0m 51ms/step - accuracy: 0.7951 - loss: 1.1388\n",
      "Epoch 23: val_loss improved from 1.26901 to 1.24484, saving model to best_model.keras\n",
      "\u001b[1m189/189\u001b[0m \u001b[32m━━━━━━━━━━━━━━━━━━━━\u001b[0m\u001b[37m\u001b[0m \u001b[1m12s\u001b[0m 55ms/step - accuracy: 0.7951 - loss: 1.1387 - val_accuracy: 0.7573 - val_loss: 1.2448 - learning_rate: 2.5000e-04\n",
      "Epoch 24/50\n",
      "\u001b[1m189/189\u001b[0m \u001b[32m━━━━━━━━━━━━━━━━━━━━\u001b[0m\u001b[37m\u001b[0m \u001b[1m0s\u001b[0m 46ms/step - accuracy: 0.8200 - loss: 1.0393\n",
      "Epoch 24: val_loss improved from 1.24484 to 1.23290, saving model to best_model.keras\n",
      "\u001b[1m189/189\u001b[0m \u001b[32m━━━━━━━━━━━━━━━━━━━━\u001b[0m\u001b[37m\u001b[0m \u001b[1m10s\u001b[0m 50ms/step - accuracy: 0.8200 - loss: 1.0392 - val_accuracy: 0.7579 - val_loss: 1.2329 - learning_rate: 2.5000e-04\n",
      "Epoch 25/50\n",
      "\u001b[1m188/189\u001b[0m \u001b[32m━━━━━━━━━━━━━━━━━━━\u001b[0m\u001b[37m━\u001b[0m \u001b[1m0s\u001b[0m 45ms/step - accuracy: 0.8327 - loss: 0.9725\n",
      "Epoch 25: val_loss improved from 1.23290 to 1.21672, saving model to best_model.keras\n",
      "\u001b[1m189/189\u001b[0m \u001b[32m━━━━━━━━━━━━━━━━━━━━\u001b[0m\u001b[37m\u001b[0m \u001b[1m11s\u001b[0m 49ms/step - accuracy: 0.8326 - loss: 0.9728 - val_accuracy: 0.7566 - val_loss: 1.2167 - learning_rate: 2.5000e-04\n",
      "Epoch 26/50\n",
      "\u001b[1m188/189\u001b[0m \u001b[32m━━━━━━━━━━━━━━━━━━━\u001b[0m\u001b[37m━\u001b[0m \u001b[1m0s\u001b[0m 40ms/step - accuracy: 0.8264 - loss: 0.9575\n",
      "Epoch 26: val_loss improved from 1.21672 to 1.18874, saving model to best_model.keras\n",
      "\u001b[1m189/189\u001b[0m \u001b[32m━━━━━━━━━━━━━━━━━━━━\u001b[0m\u001b[37m\u001b[0m \u001b[1m10s\u001b[0m 44ms/step - accuracy: 0.8265 - loss: 0.9574 - val_accuracy: 0.7579 - val_loss: 1.1887 - learning_rate: 2.5000e-04\n",
      "Epoch 27/50\n",
      "\u001b[1m189/189\u001b[0m \u001b[32m━━━━━━━━━━━━━━━━━━━━\u001b[0m\u001b[37m\u001b[0m \u001b[1m0s\u001b[0m 45ms/step - accuracy: 0.8324 - loss: 0.9389\n",
      "Epoch 27: val_loss did not improve from 1.18874\n",
      "\u001b[1m189/189\u001b[0m \u001b[32m━━━━━━━━━━━━━━━━━━━━\u001b[0m\u001b[37m\u001b[0m \u001b[1m12s\u001b[0m 47ms/step - accuracy: 0.8324 - loss: 0.9389 - val_accuracy: 0.7513 - val_loss: 1.1916 - learning_rate: 2.5000e-04\n",
      "Epoch 28/50\n",
      "\u001b[1m189/189\u001b[0m \u001b[32m━━━━━━━━━━━━━━━━━━━━\u001b[0m\u001b[37m\u001b[0m \u001b[1m0s\u001b[0m 41ms/step - accuracy: 0.8486 - loss: 0.8761\n",
      "Epoch 28: val_loss improved from 1.18874 to 1.16913, saving model to best_model.keras\n",
      "\u001b[1m189/189\u001b[0m \u001b[32m━━━━━━━━━━━━━━━━━━━━\u001b[0m\u001b[37m\u001b[0m \u001b[1m10s\u001b[0m 44ms/step - accuracy: 0.8486 - loss: 0.8762 - val_accuracy: 0.7606 - val_loss: 1.1691 - learning_rate: 2.5000e-04\n",
      "Epoch 29/50\n",
      "\u001b[1m189/189\u001b[0m \u001b[32m━━━━━━━━━━━━━━━━━━━━\u001b[0m\u001b[37m\u001b[0m \u001b[1m0s\u001b[0m 39ms/step - accuracy: 0.8435 - loss: 0.8698\n",
      "Epoch 29: val_loss did not improve from 1.16913\n",
      "\u001b[1m189/189\u001b[0m \u001b[32m━━━━━━━━━━━━━━━━━━━━\u001b[0m\u001b[37m\u001b[0m \u001b[1m10s\u001b[0m 43ms/step - accuracy: 0.8435 - loss: 0.8698 - val_accuracy: 0.7593 - val_loss: 1.1756 - learning_rate: 2.5000e-04\n",
      "Epoch 30/50\n",
      "\u001b[1m187/189\u001b[0m \u001b[32m━━━━━━━━━━━━━━━━━━━\u001b[0m\u001b[37m━\u001b[0m \u001b[1m0s\u001b[0m 42ms/step - accuracy: 0.8508 - loss: 0.8482\n",
      "Epoch 30: val_loss improved from 1.16913 to 1.16483, saving model to best_model.keras\n",
      "\u001b[1m189/189\u001b[0m \u001b[32m━━━━━━━━━━━━━━━━━━━━\u001b[0m\u001b[37m\u001b[0m \u001b[1m12s\u001b[0m 46ms/step - accuracy: 0.8508 - loss: 0.8485 - val_accuracy: 0.7659 - val_loss: 1.1648 - learning_rate: 2.5000e-04\n",
      "Epoch 31/50\n",
      "\u001b[1m189/189\u001b[0m \u001b[32m━━━━━━━━━━━━━━━━━━━━\u001b[0m\u001b[37m\u001b[0m \u001b[1m0s\u001b[0m 40ms/step - accuracy: 0.8476 - loss: 0.8492\n",
      "Epoch 31: val_loss improved from 1.16483 to 1.16366, saving model to best_model.keras\n",
      "\u001b[1m189/189\u001b[0m \u001b[32m━━━━━━━━━━━━━━━━━━━━\u001b[0m\u001b[37m\u001b[0m \u001b[1m11s\u001b[0m 45ms/step - accuracy: 0.8476 - loss: 0.8491 - val_accuracy: 0.7639 - val_loss: 1.1637 - learning_rate: 2.5000e-04\n",
      "Epoch 32/50\n",
      "\u001b[1m189/189\u001b[0m \u001b[32m━━━━━━━━━━━━━━━━━━━━\u001b[0m\u001b[37m\u001b[0m \u001b[1m0s\u001b[0m 36ms/step - accuracy: 0.8494 - loss: 0.8396\n",
      "Epoch 32: val_loss improved from 1.16366 to 1.16110, saving model to best_model.keras\n",
      "\u001b[1m189/189\u001b[0m \u001b[32m━━━━━━━━━━━━━━━━━━━━\u001b[0m\u001b[37m\u001b[0m \u001b[1m10s\u001b[0m 40ms/step - accuracy: 0.8494 - loss: 0.8395 - val_accuracy: 0.7665 - val_loss: 1.1611 - learning_rate: 2.5000e-04\n",
      "Epoch 33/50\n",
      "\u001b[1m188/189\u001b[0m \u001b[32m━━━━━━━━━━━━━━━━━━━\u001b[0m\u001b[37m━\u001b[0m \u001b[1m0s\u001b[0m 43ms/step - accuracy: 0.8551 - loss: 0.8229\n",
      "Epoch 33: val_loss did not improve from 1.16110\n",
      "\u001b[1m189/189\u001b[0m \u001b[32m━━━━━━━━━━━━━━━━━━━━\u001b[0m\u001b[37m\u001b[0m \u001b[1m12s\u001b[0m 45ms/step - accuracy: 0.8551 - loss: 0.8227 - val_accuracy: 0.7612 - val_loss: 1.1671 - learning_rate: 2.5000e-04\n",
      "Epoch 34/50\n",
      "\u001b[1m187/189\u001b[0m \u001b[32m━━━━━━━━━━━━━━━━━━━\u001b[0m\u001b[37m━\u001b[0m \u001b[1m0s\u001b[0m 53ms/step - accuracy: 0.8559 - loss: 0.8217\n",
      "Epoch 34: val_loss improved from 1.16110 to 1.15059, saving model to best_model.keras\n",
      "\u001b[1m189/189\u001b[0m \u001b[32m━━━━━━━━━━━━━━━━━━━━\u001b[0m\u001b[37m\u001b[0m \u001b[1m13s\u001b[0m 56ms/step - accuracy: 0.8559 - loss: 0.8215 - val_accuracy: 0.7659 - val_loss: 1.1506 - learning_rate: 2.5000e-04\n",
      "Epoch 35/50\n",
      "\u001b[1m189/189\u001b[0m \u001b[32m━━━━━━━━━━━━━━━━━━━━\u001b[0m\u001b[37m\u001b[0m \u001b[1m0s\u001b[0m 45ms/step - accuracy: 0.8581 - loss: 0.7862\n",
      "Epoch 35: val_loss improved from 1.15059 to 1.14807, saving model to best_model.keras\n",
      "\u001b[1m189/189\u001b[0m \u001b[32m━━━━━━━━━━━━━━━━━━━━\u001b[0m\u001b[37m\u001b[0m \u001b[1m10s\u001b[0m 50ms/step - accuracy: 0.8581 - loss: 0.7862 - val_accuracy: 0.7692 - val_loss: 1.1481 - learning_rate: 2.5000e-04\n",
      "Epoch 36/50\n",
      "\u001b[1m188/189\u001b[0m \u001b[32m━━━━━━━━━━━━━━━━━━━\u001b[0m\u001b[37m━\u001b[0m \u001b[1m0s\u001b[0m 57ms/step - accuracy: 0.8570 - loss: 0.8102\n",
      "Epoch 36: val_loss did not improve from 1.14807\n",
      "\u001b[1m189/189\u001b[0m \u001b[32m━━━━━━━━━━━━━━━━━━━━\u001b[0m\u001b[37m\u001b[0m \u001b[1m13s\u001b[0m 61ms/step - accuracy: 0.8571 - loss: 0.8100 - val_accuracy: 0.7573 - val_loss: 1.1528 - learning_rate: 2.5000e-04\n",
      "Epoch 37/50\n",
      "\u001b[1m188/189\u001b[0m \u001b[32m━━━━━━━━━━━━━━━━━━━\u001b[0m\u001b[37m━\u001b[0m \u001b[1m0s\u001b[0m 47ms/step - accuracy: 0.8680 - loss: 0.7426\n",
      "Epoch 37: val_loss did not improve from 1.14807\n",
      "\u001b[1m189/189\u001b[0m \u001b[32m━━━━━━━━━━━━━━━━━━━━\u001b[0m\u001b[37m\u001b[0m \u001b[1m19s\u001b[0m 49ms/step - accuracy: 0.8679 - loss: 0.7429 - val_accuracy: 0.7566 - val_loss: 1.1666 - learning_rate: 2.5000e-04\n",
      "Epoch 38/50\n",
      "\u001b[1m189/189\u001b[0m \u001b[32m━━━━━━━━━━━━━━━━━━━━\u001b[0m\u001b[37m\u001b[0m \u001b[1m0s\u001b[0m 53ms/step - accuracy: 0.8659 - loss: 0.7615\n",
      "Epoch 38: val_loss improved from 1.14807 to 1.14083, saving model to best_model.keras\n",
      "\u001b[1m189/189\u001b[0m \u001b[32m━━━━━━━━━━━━━━━━━━━━\u001b[0m\u001b[37m\u001b[0m \u001b[1m13s\u001b[0m 62ms/step - accuracy: 0.8659 - loss: 0.7615 - val_accuracy: 0.7659 - val_loss: 1.1408 - learning_rate: 2.5000e-04\n",
      "Epoch 39/50\n",
      "\u001b[1m189/189\u001b[0m \u001b[32m━━━━━━━━━━━━━━━━━━━━\u001b[0m\u001b[37m\u001b[0m \u001b[1m0s\u001b[0m 58ms/step - accuracy: 0.8616 - loss: 0.7594\n",
      "Epoch 39: val_loss did not improve from 1.14083\n",
      "\u001b[1m189/189\u001b[0m \u001b[32m━━━━━━━━━━━━━━━━━━━━\u001b[0m\u001b[37m\u001b[0m \u001b[1m22s\u001b[0m 62ms/step - accuracy: 0.8616 - loss: 0.7595 - val_accuracy: 0.7606 - val_loss: 1.1731 - learning_rate: 2.5000e-04\n",
      "Epoch 40/50\n",
      "\u001b[1m189/189\u001b[0m \u001b[32m━━━━━━━━━━━━━━━━━━━━\u001b[0m\u001b[37m\u001b[0m \u001b[1m0s\u001b[0m 60ms/step - accuracy: 0.8519 - loss: 0.7845\n",
      "Epoch 40: val_loss did not improve from 1.14083\n",
      "\u001b[1m189/189\u001b[0m \u001b[32m━━━━━━━━━━━━━━━━━━━━\u001b[0m\u001b[37m\u001b[0m \u001b[1m22s\u001b[0m 67ms/step - accuracy: 0.8520 - loss: 0.7845 - val_accuracy: 0.7632 - val_loss: 1.1582 - learning_rate: 2.5000e-04\n",
      "Epoch 41/50\n",
      "\u001b[1m189/189\u001b[0m \u001b[32m━━━━━━━━━━━━━━━━━━━━\u001b[0m\u001b[37m\u001b[0m \u001b[1m0s\u001b[0m 81ms/step - accuracy: 0.8785 - loss: 0.7237\n",
      "Epoch 41: ReduceLROnPlateau reducing learning rate to 0.0001250000059371814.\n",
      "\n",
      "Epoch 41: val_loss did not improve from 1.14083\n",
      "\u001b[1m189/189\u001b[0m \u001b[32m━━━━━━━━━━━━━━━━━━━━\u001b[0m\u001b[37m\u001b[0m \u001b[1m17s\u001b[0m 88ms/step - accuracy: 0.8784 - loss: 0.7238 - val_accuracy: 0.7712 - val_loss: 1.1465 - learning_rate: 2.5000e-04\n",
      "Epoch 42/50\n",
      "\u001b[1m188/189\u001b[0m \u001b[32m━━━━━━━━━━━━━━━━━━━\u001b[0m\u001b[37m━\u001b[0m \u001b[1m0s\u001b[0m 103ms/step - accuracy: 0.8698 - loss: 0.7301\n",
      "Epoch 42: val_loss did not improve from 1.14083\n",
      "\u001b[1m189/189\u001b[0m \u001b[32m━━━━━━━━━━━━━━━━━━━━\u001b[0m\u001b[37m\u001b[0m \u001b[1m21s\u001b[0m 107ms/step - accuracy: 0.8698 - loss: 0.7300 - val_accuracy: 0.7665 - val_loss: 1.1563 - learning_rate: 1.2500e-04\n",
      "Epoch 43/50\n",
      "\u001b[1m189/189\u001b[0m \u001b[32m━━━━━━━━━━━━━━━━━━━━\u001b[0m\u001b[37m\u001b[0m \u001b[1m0s\u001b[0m 79ms/step - accuracy: 0.8764 - loss: 0.7041\n",
      "Epoch 43: val_loss did not improve from 1.14083\n",
      "\u001b[1m189/189\u001b[0m \u001b[32m━━━━━━━━━━━━━━━━━━━━\u001b[0m\u001b[37m\u001b[0m \u001b[1m16s\u001b[0m 82ms/step - accuracy: 0.8764 - loss: 0.7040 - val_accuracy: 0.7646 - val_loss: 1.1527 - learning_rate: 1.2500e-04\n"
     ]
    }
   ],
   "source": [
    "# Callbacks\n",
    "callbacks = [\n",
    "    EarlyStopping(monitor='val_loss', patience=5, restore_best_weights=True),\n",
    "    ReduceLROnPlateau(monitor='val_loss', factor=0.5, patience=3, min_lr=1e-6, verbose=1),\n",
    "    ModelCheckpoint('best_model.keras', save_best_only=True, monitor='val_loss', verbose=1)\n",
    "]\n",
    "\n",
    "# Training model\n",
    "history = model.fit(\n",
    "    X_train, y_train,\n",
    "    epochs=50,\n",
    "    batch_size=32,\n",
    "    validation_data=(X_test, y_test),\n",
    "    callbacks=callbacks\n",
    ")"
   ]
  },
  {
   "cell_type": "code",
   "execution_count": 13,
   "id": "34620679-42c3-47c9-b359-19555f90a069",
   "metadata": {
    "id": "34620679-42c3-47c9-b359-19555f90a069"
   },
   "outputs": [
    {
     "name": "stdout",
     "output_type": "stream",
     "text": [
      "\u001b[1m48/48\u001b[0m \u001b[32m━━━━━━━━━━━━━━━━━━━━\u001b[0m\u001b[37m\u001b[0m \u001b[1m4s\u001b[0m 29ms/step - accuracy: 0.7863 - loss: 1.0723\n",
      "Test Loss: 1.1408313512802124\n",
      "Test Accuracy: 0.7658730149269104\n"
     ]
    }
   ],
   "source": [
    "# Load best model yang tersimpan\n",
    "model = tf.keras.models.load_model('best_model.keras')\n",
    "\n",
    "# Evaluate model\n",
    "loss, accuracy = model.evaluate(X_test, y_test)\n",
    "print(f\"Test Loss: {loss}\")\n",
    "print(f\"Test Accuracy: {accuracy}\")"
   ]
  },
  {
   "cell_type": "markdown",
   "id": "cc153439-080e-495f-ab10-c19e19162386",
   "metadata": {
    "id": "cc153439-080e-495f-ab10-c19e19162386"
   },
   "source": [
    "### PLOTTING"
   ]
  },
  {
   "cell_type": "code",
   "execution_count": 14,
   "id": "75965865-c22d-4d53-b778-600c733823ac",
   "metadata": {
    "id": "75965865-c22d-4d53-b778-600c733823ac"
   },
   "outputs": [
    {
     "data": {
      "image/png": "[encoded data removed]",
      "text/plain": [
       "<Figure size 640x480 with 1 Axes>"
      ]
     },
     "metadata": {},
     "output_type": "display_data"
    },
    {
     "data": {
      "image/png": "[encoded data removed]",
      "text/plain": [
       "<Figure size 640x480 with 1 Axes>"
      ]
     },
     "metadata": {},
     "output_type": "display_data"
    }
   ],
   "source": [
    "import matplotlib.pyplot as plt\n",
    "\n",
    "# Plot accuracy\n",
    "plt.plot(history.history['accuracy'], label='Training Accuracy')\n",
    "plt.plot(history.history['val_accuracy'], label='Validation Accuracy')\n",
    "plt.legend()\n",
    "plt.title('Accuracy')\n",
    "plt.show()\n",
    "\n",
    "# Plot loss\n",
    "plt.plot(history.history['loss'], label='Training Loss')\n",
    "plt.plot(history.history['val_loss'], label='Validation Loss')\n",
    "plt.legend()\n",
    "plt.title('Loss')\n",
    "plt.show()\n"
   ]
  },
  {
   "cell_type": "markdown",
   "id": "598ea036-c2bb-4741-9cd1-9f8080de16da",
   "metadata": {
    "id": "598ea036-c2bb-4741-9cd1-9f8080de16da"
   },
   "source": [
    "### MEMBANGUN REKOMENDASI"
   ]
  },
  {
   "cell_type": "code",
   "execution_count": 15,
   "id": "48c647f5-f8dd-4c02-b02a-4b9417b97c53",
   "metadata": {
    "id": "48c647f5-f8dd-4c02-b02a-4b9417b97c53"
   },
   "outputs": [
    {
     "name": "stdout",
     "output_type": "stream",
     "text": [
      "Materi yang perlu dipelajari lebih lanjut (berdasarkan kesalahan siswa):\n",
      "                materi  avg_error_rate\n",
      "0    Control Structure        1.000000\n",
      "1       Data Structure        0.166667\n",
      "2  Introduction Python        0.000000\n"
     ]
    }
   ],
   "source": [
    "# Menghitung rata-rata kesalahan per materi\n",
    "avg_error_per_materi = error_data.groupby(data['materi'])['avg_error_rate'].mean().reset_index()\n",
    "\n",
    "# Mengurutkan materi berdasarkan tingkat kesalahan tertinggi\n",
    "recommended_materials = avg_error_per_materi.sort_values(by='avg_error_rate', ascending=False)\n",
    "\n",
    "# Tampilkan 5 materi dengan tingkat kesalahan tertinggi\n",
    "print(\"Materi yang perlu dipelajari lebih lanjut (berdasarkan kesalahan siswa):\")\n",
    "print(recommended_materials.head())"
   ]
  },
  {
   "cell_type": "code",
   "execution_count": 35,
   "id": "63c2712e-6d05-43e1-a7ce-f73ab36a06f9",
   "metadata": {
    "id": "63c2712e-6d05-43e1-a7ce-f73ab36a06f9"
   },
   "outputs": [
    {
     "name": "stdout",
     "output_type": "stream",
     "text": [
      "Materi yang perlu dipelajari oleh siswa:\n",
      "           materi  attempts  correct  duration  avg_error_rate\n",
      "1  Data Structure       3.0      0.0      60.0             1.0\n"
     ]
    }
   ],
   "source": [
    "# Misalnya, prediksi materi untuk user berdasarkan interaksi mereka\n",
    "# Data interaksi yang relevan\n",
    "user_interaction = {\n",
    "    'user_id': [4, 4, 4, 4, 4, 4],\n",
    "    'question_id': [0, 2, 3, 5, 110, 130],\n",
    "    'attempts': [3, 4, 2, 1, 1, 4],\n",
    "    'correct': [0, 0, 1, 0, 0, 1],\n",
    "    'duration': [60, 30, 35, 20, 25, 15]\n",
    "}\n",
    "\n",
    "user_interaction_df = pd.DataFrame(user_interaction)\n",
    "user_interaction_df = user_interaction_df.merge(data[['question_id', 'materi']], on='question_id', how='left')\n",
    "\n",
    "# Hitung rata-rata kesalahan per materi\n",
    "user_error_data = user_interaction_df.groupby('materi').agg({\n",
    "    'attempts': 'mean',\n",
    "    'correct': 'mean',\n",
    "    'duration': 'mean'\n",
    "}).reset_index()\n",
    "\n",
    "user_error_data['avg_error_rate'] = 1 - user_error_data['correct']\n",
    "\n",
    "# Rekomendasikan materi dengan kesalahan tertinggi\n",
    "user_recommended_materials = user_error_data.sort_values(by='avg_error_rate', ascending=False).head(1)\n",
    "print(\"Materi yang perlu dipelajari oleh siswa:\")\n",
    "print(user_recommended_materials)\n"
   ]
  },
  {
   "cell_type": "code",
   "execution_count": 17,
   "id": "323cf8e4-2219-4506-84fc-bc1ffbd36d47",
   "metadata": {
    "id": "323cf8e4-2219-4506-84fc-bc1ffbd36d47"
   },
   "outputs": [],
   "source": [
    "model.save('best_model.keras')"
   ]
  },
  {
   "cell_type": "markdown",
   "id": "2724a4fe",
   "metadata": {},
   "source": [
    "## Convert ke TFLITE"
   ]
  },
  {
   "cell_type": "code",
   "execution_count": 19,
   "id": "e080c040",
   "metadata": {},
   "outputs": [],
   "source": [
    "model = tf.keras.models.load_model('best_model.keras')\n"
   ]
  },
  {
   "cell_type": "code",
   "execution_count": 20,
   "id": "b40099da",
   "metadata": {},
   "outputs": [
    {
     "name": "stdout",
     "output_type": "stream",
     "text": [
      "INFO:tensorflow:Assets written to: C:\\Users\\user\\AppData\\Local\\Temp\\tmp62tfwnie\\assets\n"
     ]
    },
    {
     "name": "stderr",
     "output_type": "stream",
     "text": [
      "INFO:tensorflow:Assets written to: C:\\Users\\user\\AppData\\Local\\Temp\\tmp62tfwnie\\assets\n"
     ]
    },
    {
     "name": "stdout",
     "output_type": "stream",
     "text": [
      "Saved artifact at 'C:\\Users\\user\\AppData\\Local\\Temp\\tmp62tfwnie'. The following endpoints are available:\n",
      "\n",
      "* Endpoint 'serve'\n",
      "  args_0 (POSITIONAL_ONLY): TensorSpec(shape=(None, 2000), dtype=tf.float32, name='input_layer_1')\n",
      "Output Type:\n",
      "  TensorSpec(shape=(None, 8), dtype=tf.float32, name=None)\n",
      "Captures:\n",
      "  2790881162256: TensorSpec(shape=(), dtype=tf.resource, name=None)\n",
      "  2790881162640: TensorSpec(shape=(), dtype=tf.resource, name=None)\n",
      "  2790881162448: TensorSpec(shape=(), dtype=tf.resource, name=None)\n",
      "  2790881164752: TensorSpec(shape=(), dtype=tf.resource, name=None)\n",
      "  2790881164944: TensorSpec(shape=(), dtype=tf.resource, name=None)\n",
      "  2790881163024: TensorSpec(shape=(), dtype=tf.resource, name=None)\n",
      "  2790881395152: TensorSpec(shape=(), dtype=tf.resource, name=None)\n",
      "  2790881396304: TensorSpec(shape=(), dtype=tf.resource, name=None)\n",
      "  2790881396880: TensorSpec(shape=(), dtype=tf.resource, name=None)\n",
      "  2790881395920: TensorSpec(shape=(), dtype=tf.resource, name=None)\n",
      "  2790881397072: TensorSpec(shape=(), dtype=tf.resource, name=None)\n",
      "  2790881395536: TensorSpec(shape=(), dtype=tf.resource, name=None)\n",
      "  2790881397840: TensorSpec(shape=(), dtype=tf.resource, name=None)\n",
      "  2790881398992: TensorSpec(shape=(), dtype=tf.resource, name=None)\n",
      "  2790881399760: TensorSpec(shape=(), dtype=tf.resource, name=None)\n",
      "  2790881395728: TensorSpec(shape=(), dtype=tf.resource, name=None)\n",
      "  2790881399952: TensorSpec(shape=(), dtype=tf.resource, name=None)\n",
      "  2790881399376: TensorSpec(shape=(), dtype=tf.resource, name=None)\n",
      "  2790881400720: TensorSpec(shape=(), dtype=tf.resource, name=None)\n",
      "  2790881401872: TensorSpec(shape=(), dtype=tf.resource, name=None)\n"
     ]
    }
   ],
   "source": [
    "# Inisialisasi converter\n",
    "converter = tf.lite.TFLiteConverter.from_keras_model(model)\n",
    "\n",
    "converter.optimizations = [tf.lite.Optimize.DEFAULT]\n",
    "\n",
    "# Konversi model\n",
    "tflite_model = converter.convert()\n",
    "\n",
    "# Simpan model TFLite ke file\n",
    "with open('model.tflite', 'wb') as f:\n",
    "    f.write(tflite_model)\n",
    "\n"
   ]
  },
  {
   "cell_type": "markdown",
   "id": "15ce5c48",
   "metadata": {},
   "source": [
    "## Test Model dengan TFLite Interpreter"
   ]
  },
  {
   "cell_type": "code",
   "execution_count": 21,
   "id": "d708e7a4",
   "metadata": {},
   "outputs": [],
   "source": [
    "# Load TFLite model and allocate tensors.\n",
    "interpreter = tf.lite.Interpreter(model_content=tflite_model)\n",
    "interpreter.allocate_tensors()\n",
    "\n",
    "input_index = interpreter.get_input_details()[0][\"index\"]\n",
    "output_index = interpreter.get_output_details()[0][\"index\"]"
   ]
  },
  {
   "cell_type": "code",
   "execution_count": 23,
   "id": "bd1ba06a",
   "metadata": {},
   "outputs": [],
   "source": [
    "input_details = interpreter.get_input_details()\n",
    "input_shape = input_details[0][\"shape\"]\n",
    "input_dtype = input_details[0][\"dtype\"]"
   ]
  },
  {
   "cell_type": "code",
   "execution_count": 24,
   "id": "ae66321e",
   "metadata": {},
   "outputs": [],
   "source": [
    "input_data = np.random.random_sample(input_shape).astype(input_dtype)\n"
   ]
  },
  {
   "cell_type": "code",
   "execution_count": 25,
   "id": "77223e90",
   "metadata": {},
   "outputs": [],
   "source": [
    "interpreter.set_tensor(input_index, input_data)"
   ]
  },
  {
   "cell_type": "code",
   "execution_count": 26,
   "id": "8fe87701",
   "metadata": {},
   "outputs": [
    {
     "name": "stdout",
     "output_type": "stream",
     "text": [
      "Output Data: [[0. 0. 0. 0. 1. 0. 0. 0.]]\n"
     ]
    }
   ],
   "source": [
    "# Run inference\n",
    "interpreter.invoke()\n",
    "\n",
    "# Get output tensor\n",
    "output_data = interpreter.get_tensor(output_index)\n",
    "print(\"Output Data:\", output_data)"
   ]
  },
  {
   "cell_type": "code",
   "execution_count": null,
   "id": "d7c56c59",
   "metadata": {},
   "outputs": [],
   "source": []
  }
 ],
 "metadata": {
  "colab": {
   "provenance": []
  },
  "kernelspec": {
   "display_name": "Python 3",
   "language": "python",
   "name": "python3"
  },
  "language_info": {
   "codemirror_mode": {
    "name": "ipython",
    "version": 3
   },
   "file_extension": ".py",
   "mimetype": "text/x-python",
   "name": "python",
   "nbconvert_exporter": "python",
   "pygments_lexer": "ipython3",
   "version": "3.11.0"
  }
 },
 "nbformat": 4,
 "nbformat_minor": 5
}
